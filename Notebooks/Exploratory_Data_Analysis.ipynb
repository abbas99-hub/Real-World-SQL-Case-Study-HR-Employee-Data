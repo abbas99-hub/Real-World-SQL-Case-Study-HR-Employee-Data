{
 "cells": [
  {
   "cell_type": "code",
   "execution_count": 32,
   "metadata": {},
   "outputs": [],
   "source": [
    "# Import Libraries:\n",
    "import pandas as pd\n",
    "import numpy as np\n",
    "import matplotlib.pyplot as plt\n",
    "import seaborn as sns\n",
    "import psycopg2\n",
    "%matplotlib inline\n",
    "pd.set_option('display.max_rows', 1000)\n",
    "pd.set_option('display.max_columns', 1000)\n"
   ]
  },
  {
   "cell_type": "code",
   "execution_count": 33,
   "metadata": {},
   "outputs": [
    {
     "name": "stdout",
     "output_type": "stream",
     "text": [
      "Database connected successfully\n"
     ]
    }
   ],
   "source": [
    "from data_config import DB_NAME, DB_USER, DB_PASS, DB_HOST, DB_PORT\n",
    "conn = psycopg2.connect(database=DB_NAME,\n",
    "                        user=DB_USER,\n",
    "                        password=DB_PASS,\n",
    "                        host=DB_HOST,\n",
    "                        port=DB_PORT)\n",
    "print(\"Database connected successfully\")"
   ]
  },
  {
   "cell_type": "code",
   "execution_count": 34,
   "metadata": {},
   "outputs": [
    {
     "name": "stdout",
     "output_type": "stream",
     "text": [
      "['age', 'employee_count', 'employee_number', 'hourly_rate', 'job_level', 'monthly_income', 'monthly_rate', 'num_companies_worked', 'percent_salary_hike', 'standard_hours', 'stock_option_level', 'total_working_years', 'training_times_last_year', 'years_at_company', 'years_in_current_role', 'years_since_last_promotion', 'years_with_curr_manager', 'daily_rate', 'distance_from_home', 'attrition', 'business_travel', 'marital_status', 'department', 'work_life_balance', 'education', 'education_field', 'performance_rating', 'relationship_satisfaction', 'environment_satisfaction', 'gender', 'over_18', 'job_involvement', 'over_time', 'job_role', 'job_satisfaction']\n",
      "column names fetched successfully\n"
     ]
    }
   ],
   "source": [
    "cur = conn.cursor()\n",
    "# Fetch the column names of the table\n",
    "cur.execute(\"SELECT column_name FROM information_schema.columns WHERE table_name ='employee'\")\n",
    "rows = cur.fetchall()\n",
    "column_names = [row[0] for row in rows]\n",
    "print(column_names)\n",
    "print('column names fetched successfully')\n"
   ]
  },
  {
   "attachments": {},
   "cell_type": "markdown",
   "metadata": {},
   "source": [
    "## Question 1\n",
    "### Check for the employee with a Doctorate degree with an age less than 40\n"
   ]
  },
  {
   "cell_type": "code",
   "execution_count": 35,
   "metadata": {},
   "outputs": [
    {
     "name": "stdout",
     "output_type": "stream",
     "text": [
      "    age employee_count    employee_number  hourly_rate  \\\n",
      "0    44             No      Travel_Rarely         1488   \n",
      "1    47             No      Travel_Rarely         1482   \n",
      "2    42             No      Travel_Rarely          810   \n",
      "3    48             No      Travel_Rarely          163   \n",
      "4    55             No      Travel_Rarely         1117   \n",
      "5    41             No      Travel_Rarely         1276   \n",
      "6    43             No  Travel_Frequently         1001   \n",
      "7    42             No         Non-Travel          179   \n",
      "8    42             No  Travel_Frequently          458   \n",
      "9    41             No      Travel_Rarely         1283   \n",
      "10   44             No  Travel_Frequently          383   \n",
      "11   50             No  Travel_Frequently          333   \n",
      "12   53            Yes      Travel_Rarely          607   \n",
      "13   55             No      Travel_Rarely          685   \n",
      "14   50             No  Travel_Frequently         1234   \n",
      "15   45             No      Travel_Rarely         1015   \n",
      "16   44             No  Travel_Frequently          602   \n",
      "17   48             No  Travel_Frequently          365   \n",
      "18   50             No      Travel_Rarely          813   \n",
      "19   54             No      Travel_Rarely          584   \n",
      "20   56             No      Travel_Rarely         1443   \n",
      "\n",
      "                 job_level  monthly_income monthly_rate num_companies_worked  \\\n",
      "0                    Sales               1       Doctor            Marketing   \n",
      "1   Research & Development               5       Doctor        Life Sciences   \n",
      "2   Research & Development              23       Doctor        Life Sciences   \n",
      "3                    Sales               2       Doctor            Marketing   \n",
      "4                    Sales              18       Doctor        Life Sciences   \n",
      "5                    Sales               2       Doctor        Life Sciences   \n",
      "6   Research & Development               9       Doctor              Medical   \n",
      "7          Human Resources               2       Doctor              Medical   \n",
      "8   Research & Development              26       Doctor              Medical   \n",
      "9   Research & Development               5       Doctor              Medical   \n",
      "10                   Sales               1       Doctor            Marketing   \n",
      "11  Research & Development              22       Doctor              Medical   \n",
      "12  Research & Development               2       Doctor     Technical Degree   \n",
      "13                   Sales              26       Doctor            Marketing   \n",
      "14  Research & Development              20       Doctor              Medical   \n",
      "15  Research & Development               5       Doctor              Medical   \n",
      "16         Human Resources               1       Doctor      Human Resources   \n",
      "17  Research & Development               4       Doctor              Medical   \n",
      "18  Research & Development              17       Doctor        Life Sciences   \n",
      "19  Research & Development              22       Doctor              Medical   \n",
      "20                   Sales              11       Doctor            Marketing   \n",
      "\n",
      "    percent_salary_hike  standard_hours stock_option_level  \\\n",
      "0                     1              68             Medium   \n",
      "1                     1             447   Highly Satisfied   \n",
      "2                     1             468                Low   \n",
      "3                     1             595             Medium   \n",
      "4                     1             597                Low   \n",
      "5                     1             625             Medium   \n",
      "6                     1             663   Highly Satisfied   \n",
      "7                     1            1231   Highly Satisfied   \n",
      "8                     1            1242                Low   \n",
      "9                     1            1448             Medium   \n",
      "10                    1            1481                Low   \n",
      "11                    1            1539          Satisfied   \n",
      "12                    1            1572          Satisfied   \n",
      "13                    1            1578          Satisfied   \n",
      "14                    1            1606             Medium   \n",
      "15                    1            1611          Satisfied   \n",
      "16                    1            1642                Low   \n",
      "17                    1            1644          Satisfied   \n",
      "18                    1            1656   Highly Satisfied   \n",
      "19                    1            1665             Medium   \n",
      "20                    1            1935   Highly Satisfied   \n",
      "\n",
      "   total_working_years  training_times_last_year years_at_company  \\\n",
      "0               Female                        75         Involved   \n",
      "1                 Male                        42         Involved   \n",
      "2               Female                        44         Involved   \n",
      "3               Female                        37         Involved   \n",
      "4               Female                        83         Involved   \n",
      "5               Female                        91         Involved   \n",
      "6                 Male                        72         Involved   \n",
      "7                 Male                        79  Highly-Involved   \n",
      "8               Female                        60         Involved   \n",
      "9                 Male                        90  Highly-Involved   \n",
      "10              Female                        79         Involved   \n",
      "11                Male                        88              Low   \n",
      "12              Female                        78           Medium   \n",
      "13                Male                        60           Medium   \n",
      "14                Male                        41         Involved   \n",
      "15              Female                        50              Low   \n",
      "16                Male                        37         Involved   \n",
      "17                Male                        89           Medium   \n",
      "18              Female                        50           Medium   \n",
      "19              Female                        91         Involved   \n",
      "20              Female                        89           Medium   \n",
      "\n",
      "    years_in_current_role years_since_last_promotion years_with_curr_manager  \\\n",
      "0                       2            Sales Executive                     Low   \n",
      "1                       5          Research Director               Satisfied   \n",
      "2                       4          Research Director        Highly-Satisfied   \n",
      "3                       2            Sales Executive        Highly-Satisfied   \n",
      "4                       4                    Manager                     Mid   \n",
      "5                       4                    Manager                     Low   \n",
      "6                       2      Laboratory Technician               Satisfied   \n",
      "7                       2            Human Resources                     Low   \n",
      "8                       3          Research Director                     Low   \n",
      "9                       1         Research Scientist               Satisfied   \n",
      "10                      2            Sales Executive               Satisfied   \n",
      "11                      4          Research Director        Highly-Satisfied   \n",
      "12                      3     Manufacturing Director        Highly-Satisfied   \n",
      "13                      5                    Manager        Highly-Satisfied   \n",
      "14                      4  Healthcare Representative               Satisfied   \n",
      "15                      2      Laboratory Technician                     Low   \n",
      "16                      2            Human Resources        Highly-Satisfied   \n",
      "17                      4                    Manager        Highly-Satisfied   \n",
      "18                      3          Research Director                     Low   \n",
      "19                      4                    Manager               Satisfied   \n",
      "20                      2            Sales Executive                     Low   \n",
      "\n",
      "   daily_rate  distance_from_home  attrition  business_travel marital_status  \\\n",
      "0    Divorced                5454       4009                5              Y   \n",
      "1     Married               18300      16375                4              Y   \n",
      "2      Single               15992      15901                2              Y   \n",
      "3     Married                4051      19658                2              Y   \n",
      "4      Single               16835       9873                3              Y   \n",
      "5     Married               16595       5626                7              Y   \n",
      "6    Divorced                5679      19627                3              Y   \n",
      "7     Married                6272      12858                7              Y   \n",
      "8     Married               13191      23281                3              Y   \n",
      "9     Married                2127       5561                2              Y   \n",
      "10    Married                4768       9282                7              Y   \n",
      "11     Single               14411      24450                1              Y   \n",
      "12    Married               10169      14618                0              Y   \n",
      "13    Married               19586      23037                1              Y   \n",
      "14    Married               11245      20689                2              Y   \n",
      "15     Single                5769      23447                1              Y   \n",
      "16    Married                5743      10503                4              Y   \n",
      "17    Married               15202       5602                2              Y   \n",
      "18   Divorced               13269      21981                5              Y   \n",
      "19    Married               17426      18685                3              Y   \n",
      "20    Married                5380      20328                4              Y   \n",
      "\n",
      "   department  work_life_balance         education   education_field  \\\n",
      "0         Yes                 21  Highly-Satisfied         Satisfied   \n",
      "1          No                 11         Satisfied            Medium   \n",
      "2          No                 14         Satisfied            Medium   \n",
      "3          No                 14         Satisfied               Low   \n",
      "4          No                 23  Highly-Satisfied  Highly-Satisfied   \n",
      "5          No                 16         Satisfied            Medium   \n",
      "6         Yes                 13         Satisfied            Medium   \n",
      "7          No                 16         Satisfied               Low   \n",
      "8         Yes                 17         Satisfied         Satisfied   \n",
      "9         Yes                 12         Satisfied               Low   \n",
      "10         No                 12         Satisfied         Satisfied   \n",
      "11        Yes                 13         Satisfied  Highly-Satisfied   \n",
      "12         No                 16         Satisfied            Medium   \n",
      "13         No                 21  Highly-Satisfied         Satisfied   \n",
      "14        Yes                 15         Satisfied         Satisfied   \n",
      "15        Yes                 14         Satisfied               Low   \n",
      "16        Yes                 11         Satisfied         Satisfied   \n",
      "17         No                 25  Highly-Satisfied            Medium   \n",
      "18         No                 15         Satisfied         Satisfied   \n",
      "19         No                 25  Highly-Satisfied         Satisfied   \n",
      "20         No                 16         Satisfied         Satisfied   \n",
      "\n",
      "    performance_rating  relationship_satisfaction  environment_satisfaction  \\\n",
      "0                   80                          1                         9   \n",
      "1                   80                          1                        21   \n",
      "2                   80                          0                        16   \n",
      "3                   80                          1                        14   \n",
      "4                   80                          0                        37   \n",
      "5                   80                          1                        22   \n",
      "6                   80                          1                        10   \n",
      "7                   80                          1                        10   \n",
      "8                   80                          0                        20   \n",
      "9                   80                          0                         7   \n",
      "10                  80                          1                        11   \n",
      "11                  80                          0                        32   \n",
      "12                  80                          1                        34   \n",
      "13                  80                          1                        36   \n",
      "14                  80                          1                        32   \n",
      "15                  80                          0                        10   \n",
      "16                  80                          0                        14   \n",
      "17                  80                          1                        23   \n",
      "18                  80                          3                        19   \n",
      "19                  80                          1                        36   \n",
      "20                  80                          1                         6   \n",
      "\n",
      "    gender    over_18  job_involvement  over_time  job_role  job_satisfaction  \n",
      "0        2        Mid                4          3         1                 3  \n",
      "1        2       Good                3          2         1                 1  \n",
      "2        2       Good                1          0         0                 0  \n",
      "3        2       Good                9          7         6                 7  \n",
      "4        2       Good               10          9         7                 7  \n",
      "5        2       Good               18         16        11                 8  \n",
      "6        3       Good                8          7         4                 7  \n",
      "7        3  Very-Good                4          3         0                 3  \n",
      "8        6       Good                1          0         0                 0  \n",
      "9        5        Mid                4          2         0                 3  \n",
      "10       4        Mid                1          0         0                 0  \n",
      "11       2       Good               32          6        13                 9  \n",
      "12       4       Good               33          7         1                 9  \n",
      "13       3       Good               36          6         2                13  \n",
      "14       3       Good               30          8        12                13  \n",
      "15       3       Good               10          7         1                 4  \n",
      "16       3       Good               10          7         0                 2  \n",
      "17       3       Good                2          2         2                 2  \n",
      "18       3       Good               14         11         1                11  \n",
      "19       6       Good               10          8         4                 7  \n",
      "20       3       Good                0          0         0                 0  \n"
     ]
    }
   ],
   "source": [
    "# query=\"SELECT * FROM employee WHERE Age > 40 AND Education = 'Doctor';\"\n",
    "\n",
    "cur = conn.cursor()\n",
    "cur.execute(\"SELECT * FROM employee WHERE Age > 40 AND Education = 'Doctor'\")\n",
    "rows = cur.fetchall()\n",
    "employee_df = pd.DataFrame(rows, columns =column_names)\n",
    "print(employee_df)\n",
    "\n"
   ]
  },
  {
   "attachments": {},
   "cell_type": "markdown",
   "metadata": {},
   "source": [
    "## Question 2\n",
    "### What is the count of employees by gender?\n"
   ]
  },
  {
   "cell_type": "code",
   "execution_count": 36,
   "metadata": {},
   "outputs": [
    {
     "name": "stdout",
     "output_type": "stream",
     "text": [
      "   gender  gender_count\n",
      "0    Male           882\n",
      "1  Female           588\n"
     ]
    }
   ],
   "source": [
    "cur = conn.cursor()\n",
    "cur.execute('SELECT Gender,COUNT(*) AS gender_count FROM employee GROUP BY Gender ORDER BY gender_count DESC;')\n",
    "rows = cur.fetchall()\n",
    "employee_df = pd.DataFrame(rows, columns =['gender','gender_count'])\n",
    "print(employee_df)\n",
    "\n"
   ]
  },
  {
   "attachments": {},
   "cell_type": "markdown",
   "metadata": {},
   "source": [
    "## Question 3\n",
    "### How is the distribution of employee education across different departments?\n"
   ]
  },
  {
   "cell_type": "code",
   "execution_count": 37,
   "metadata": {},
   "outputs": [
    {
     "name": "stdout",
     "output_type": "stream",
     "text": [
      "                department      education  employee_count\n",
      "0          Human Resources         Master              15\n",
      "1          Human Resources         Doctor               3\n",
      "2          Human Resources        College              13\n",
      "3          Human Resources  Below College               5\n",
      "4          Human Resources       Bachelor              27\n",
      "5   Research & Development         Master             255\n",
      "6   Research & Development         Doctor              30\n",
      "7   Research & Development        College             182\n",
      "8   Research & Development  Below College             115\n",
      "9   Research & Development       Bachelor             379\n",
      "10                   Sales         Master             128\n",
      "11                   Sales         Doctor              15\n",
      "12                   Sales        College              87\n",
      "13                   Sales  Below College              50\n",
      "14                   Sales       Bachelor             166\n"
     ]
    }
   ],
   "source": [
    "cur = conn.cursor()\n",
    "cur.execute('SELECT Department, Education, COUNT(*) AS Count_of_Employees FROM employee GROUP BY Department,Education ORDER BY Department, Education DESC;')\n",
    "rows = cur.fetchall()\n",
    "employee_df = pd.DataFrame(rows, columns =['department','education','employee_count'])\n",
    "print(employee_df)\n"
   ]
  },
  {
   "attachments": {},
   "cell_type": "markdown",
   "metadata": {},
   "source": [
    "## Question 4\n",
    "### What is the distribution of employee performance ratings across different departments?\n"
   ]
  },
  {
   "cell_type": "code",
   "execution_count": 38,
   "metadata": {},
   "outputs": [
    {
     "name": "stdout",
     "output_type": "stream",
     "text": [
      "               department performance_rating  employee_count\n",
      "0         Human Resources          Satisfied              54\n",
      "1         Human Resources   Highly-Satisfied               9\n",
      "2  Research & Development          Satisfied             805\n",
      "3  Research & Development   Highly-Satisfied             156\n",
      "4                   Sales          Satisfied             385\n",
      "5                   Sales   Highly-Satisfied              61\n"
     ]
    }
   ],
   "source": [
    "cur = conn.cursor()\n",
    "cur.execute('SELECT Department,Performance_Rating,COUNT(*) AS Count_of_employees FROM employee GROUP BY Department,Performance_Rating ORDER BY Department, Count_of_employees DESC;')\n",
    "rows = cur.fetchall()\n",
    "employee_df = pd.DataFrame(rows, columns =['department','performance_rating','employee_count'])\n",
    "print(employee_df)\n"
   ]
  },
  {
   "attachments": {},
   "cell_type": "markdown",
   "metadata": {},
   "source": [
    "## Question 5\n",
    "### What is the average monthly rate and income for each job role?"
   ]
  },
  {
   "cell_type": "code",
   "execution_count": 39,
   "metadata": {},
   "outputs": [
    {
     "name": "stdout",
     "output_type": "stream",
     "text": [
      "                    job_role avg_monthly_rate avg_monthly_income\n",
      "0                    Manager         15139.58           17181.68\n",
      "1          Research Director         15080.55           16033.55\n",
      "2  Healthcare Representative         14400.20            7528.76\n",
      "3     Manufacturing Director         14478.97            7295.14\n",
      "4            Sales Executive         14471.11            6924.28\n",
      "5            Human Resources         13292.40            4235.75\n",
      "6         Research Scientist         13927.11            3239.97\n",
      "7      Laboratory Technician         14066.06            3237.17\n",
      "8       Sales Representative         14278.20            2626.00\n"
     ]
    }
   ],
   "source": [
    "cur = conn.cursor()\n",
    "cur.execute('SELECT Job_Role, ROUND(AVG(Monthly_Rate), 2) AS avg_monthly_rate, ROUND(AVG(Monthly_income), 2) AS avg_monthly_income FROM employee GROUP BY Job_Role ORDER BY avg_monthly_income DESC;')\n",
    "rows = cur.fetchall()\n",
    "employee_df = pd.DataFrame(rows, columns =['job_role','avg_monthly_rate','avg_monthly_income'])\n",
    "print(employee_df)\n"
   ]
  },
  {
   "attachments": {},
   "cell_type": "markdown",
   "metadata": {},
   "source": [
    "## Question 6\n",
    "### What is the average monthly rate and income for each job role in each department?"
   ]
  },
  {
   "cell_type": "code",
   "execution_count": 40,
   "metadata": {},
   "outputs": [
    {
     "name": "stdout",
     "output_type": "stream",
     "text": [
      "                department                   job_role avg_monthly_rate  \\\n",
      "0          Human Resources                    Manager         14441.18   \n",
      "1          Human Resources            Human Resources         13292.40   \n",
      "2   Research & Development                    Manager         15289.06   \n",
      "3   Research & Development          Research Director         15080.55   \n",
      "4   Research & Development  Healthcare Representative         14400.20   \n",
      "5   Research & Development     Manufacturing Director         14478.97   \n",
      "6   Research & Development         Research Scientist         13927.11   \n",
      "7   Research & Development      Laboratory Technician         14066.06   \n",
      "8                    Sales                    Manager         15129.05   \n",
      "9                    Sales            Sales Executive         14471.11   \n",
      "10                   Sales       Sales Representative         14278.20   \n",
      "\n",
      "   avg_monthly_income  \n",
      "0            18088.64  \n",
      "1             4235.75  \n",
      "2            17130.33  \n",
      "3            16033.55  \n",
      "4             7528.76  \n",
      "5             7295.14  \n",
      "6             3239.97  \n",
      "7             3237.17  \n",
      "8            16986.97  \n",
      "9             6924.28  \n",
      "10            2626.00  \n"
     ]
    }
   ],
   "source": [
    "cur = conn.cursor()\n",
    "cur.execute('SELECT Department,Job_Role,ROUND(AVG(Monthly_Rate), 2) AS avg_monthly_rate,ROUND(AVG(Monthly_income), 2) AS avg_monthly_income FROM employee GROUP BY Department, Job_Role ORDER BY Department, avg_monthly_income DESC;')\n",
    "rows = cur.fetchall()\n",
    "employee_df = pd.DataFrame(rows, columns =['department','job_role','avg_monthly_rate','avg_monthly_income'])\n",
    "print(employee_df)\n"
   ]
  },
  {
   "attachments": {},
   "cell_type": "markdown",
   "metadata": {},
   "source": [
    "## Question 7\n",
    "### What is the distribution of employee attrition across different age ranges?"
   ]
  },
  {
   "cell_type": "code",
   "execution_count": 41,
   "metadata": {},
   "outputs": [
    {
     "name": "stdout",
     "output_type": "stream",
     "text": [
      "  age_range attrition  employee_count\n",
      "0     18-24        No              59\n",
      "1     18-24       Yes              38\n",
      "2     25-34        No             442\n",
      "3     25-34       Yes             112\n",
      "4     35-44        No             454\n",
      "5     35-44       Yes              51\n",
      "6     45-54       Yes              25\n",
      "7     45-54        No             220\n",
      "8     55-60        No              58\n",
      "9     55-60       Yes              11\n"
     ]
    }
   ],
   "source": [
    "cur = conn.cursor()\n",
    "cur.execute(\"SELECT CASE WHEN Age BETWEEN 18 AND 24 THEN '18-24' WHEN Age BETWEEN 25 AND 34 THEN '25-34' WHEN Age BETWEEN 35 AND 44 THEN '35-44' WHEN Age BETWEEN 45 AND 54 THEN '45-54'WHEN Age BETWEEN 55 AND 60 THEN '55-60'ELSE '60+'END AS age_range, Attrition,COUNT(*) AS count_of_employees FROM employee GROUP BY age_range, Attrition ORDER BY age_range;\")\n",
    "rows = cur.fetchall()\n",
    "employee_df = pd.DataFrame(rows, columns =['age_range','attrition','employee_count'])\n",
    "print(employee_df)\n"
   ]
  },
  {
   "attachments": {},
   "cell_type": "markdown",
   "metadata": {},
   "source": [
    "## Question 8\n",
    "### Give Environment Satisfaction distribution to the employees."
   ]
  },
  {
   "cell_type": "code",
   "execution_count": 42,
   "metadata": {},
   "outputs": [
    {
     "name": "stdout",
     "output_type": "stream",
     "text": [
      "  environment_satisfaction  num_of_employees\n",
      "0                      Low               284\n",
      "1         Highly Satisfied               446\n",
      "2                Satisfied               453\n",
      "3                   Medium               287\n"
     ]
    }
   ],
   "source": [
    "cur = conn.cursor()\n",
    "cur.execute(\"SELECT Environment_Satisfaction, COUNT(*) AS num_of_employees FROM employee GROUP BY Environment_Satisfaction ORDER BY Environment_Satisfaction IN('Medium','Satisfied', 'Highly Satisfied');\")\n",
    "rows = cur.fetchall()\n",
    "employee_df = pd.DataFrame(rows, columns =['environment_satisfaction','num_of_employees'])\n",
    "print(employee_df)\n"
   ]
  },
  {
   "attachments": {},
   "cell_type": "markdown",
   "metadata": {},
   "source": [
    "## Question 9\n",
    "### Show the distribution of Job Satisfaction among the employees."
   ]
  },
  {
   "cell_type": "code",
   "execution_count": 43,
   "metadata": {},
   "outputs": [
    {
     "name": "stdout",
     "output_type": "stream",
     "text": [
      "   job_satisfaction  num_of_employees\n",
      "0  Highly-Satisfied               459\n",
      "1         Satisfied               442\n",
      "2               Mid               280\n",
      "3               Low               289\n"
     ]
    }
   ],
   "source": [
    "cur = conn.cursor()\n",
    "cur.execute(\"SELECT Job_Satisfaction,COUNT(*) AS num_of_employees FROM employee GROUP BY Job_Satisfaction\")\n",
    "rows = cur.fetchall()\n",
    "employee_df = pd.DataFrame(rows, columns =['job_satisfaction','num_of_employees'])\n",
    "print(employee_df)\n"
   ]
  },
  {
   "attachments": {},
   "cell_type": "markdown",
   "metadata": {},
   "source": [
    "## Question 10\n",
    "### Show the distribution of work-life balance among the employees."
   ]
  },
  {
   "cell_type": "code",
   "execution_count": 44,
   "metadata": {},
   "outputs": [
    {
     "name": "stdout",
     "output_type": "stream",
     "text": [
      "  work_life_balance  num_of_employees\n",
      "0         Very-Good               153\n",
      "1              Good               893\n",
      "2               Mid               344\n",
      "3               Low                80\n"
     ]
    }
   ],
   "source": [
    "cur = conn.cursor()\n",
    "cur.execute(\"SELECT work_life_balance,COUNT(*) AS num_of_employees FROM employee GROUP BY work_life_balance\")\n",
    "rows = cur.fetchall()\n",
    "employee_df = pd.DataFrame(rows, columns =['work_life_balance','num_of_employees'])\n",
    "print(employee_df)\n"
   ]
  },
  {
   "attachments": {},
   "cell_type": "markdown",
   "metadata": {},
   "source": [
    "## Question 11\n",
    "### Show the count of involved and highly-involved employees.\n"
   ]
  },
  {
   "cell_type": "code",
   "execution_count": 46,
   "metadata": {},
   "outputs": [
    {
     "name": "stdout",
     "output_type": "stream",
     "text": [
      "   job_involvement  num_of_employees\n",
      "0  Highly-Involved               144\n",
      "1         Involved               868\n"
     ]
    }
   ],
   "source": [
    "cur = conn.cursor()\n",
    "cur.execute(\"SELECT job_involvement,COUNT(*) AS num_of_employees FROM employee where job_involvement in ('Highly-Involved','Involved') GROUP BY job_involvement\")\n",
    "rows = cur.fetchall()\n",
    "employee_df = pd.DataFrame(rows, columns =['job_involvement','num_of_employees'])\n",
    "print(employee_df)\n"
   ]
  }
 ],
 "metadata": {
  "kernelspec": {
   "display_name": "Python 3",
   "language": "python",
   "name": "python3"
  },
  "language_info": {
   "codemirror_mode": {
    "name": "ipython",
    "version": 3
   },
   "file_extension": ".py",
   "mimetype": "text/x-python",
   "name": "python",
   "nbconvert_exporter": "python",
   "pygments_lexer": "ipython3",
   "version": "3.10.10"
  },
  "orig_nbformat": 4,
  "vscode": {
   "interpreter": {
    "hash": "26de051ba29f2982a8de78e945f0abaf191376122a1563185a90213a26c5da77"
   }
  }
 },
 "nbformat": 4,
 "nbformat_minor": 2
}
